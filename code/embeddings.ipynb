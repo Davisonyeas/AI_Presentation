{
 "cells": [
  {
   "cell_type": "markdown",
   "id": "d8c810db-a99b-4d95-9f7a-de8e59c032ba",
   "metadata": {},
   "source": [
    "### Embeddings"
   ]
  },
  {
   "cell_type": "code",
   "execution_count": null,
   "id": "ca25dc90-2a89-49b8-b4c3-9ddd16478eb4",
   "metadata": {},
   "outputs": [],
   "source": [
    "# libraies\n",
    "# install nltk, gensim library\n",
    "!pip install nltk gensim\n",
    "\n",
    "import nltk\n",
    "from nltk.corpus import brown\n",
    "from gensim.models import Word2Vec\n",
    "import matplotlib.pyplot as plt\n",
    "from sklearn.decomposition import PCA\n",
    "\n",
    "nltk.download(\"brown\")"
   ]
  },
  {
   "cell_type": "code",
   "execution_count": null,
   "id": "41c17e9b-efcd-4068-8735-a2202620d602",
   "metadata": {},
   "outputs": [],
   "source": [
    "# loading preprocessed corpus\n",
    "sentences = brown.sents()"
   ]
  },
  {
   "cell_type": "code",
   "execution_count": null,
   "id": "c06a6750-2cca-4069-bc4d-97ecbd9c4d40",
   "metadata": {},
   "outputs": [],
   "source": [
    "# inspect\n",
    "print(\"Totla number of sentences \", len(sentences))\n",
    "print(\"Totla number of words \", len(brown.words()))\n",
    "print(\"Totla number of unique words \", len(set(brown.words())))"
   ]
  },
  {
   "cell_type": "code",
   "execution_count": null,
   "id": "b18afd3d-eb9c-4afc-bd9b-66ee3b0f2a82",
   "metadata": {},
   "outputs": [],
   "source": [
    "# sample of corpus\n",
    "sentences[4]"
   ]
  },
  {
   "cell_type": "code",
   "execution_count": null,
   "id": "a981c5c3-378c-4d64-95ba-af1789aa5630",
   "metadata": {},
   "outputs": [],
   "source": [
    "# Train Word2Vec model\n",
    "model = Word2Vec(sentences, vector_size=100, window=5, min_count=2, workers=4)"
   ]
  },
  {
   "cell_type": "code",
   "execution_count": null,
   "id": "f1a9b0d8-7d13-4e3a-adda-94517c5aec49",
   "metadata": {},
   "outputs": [],
   "source": [
    "# Get the embedding of a word\n",
    "vector = model.wv[\"money\"]\n",
    "print(\"All values of 'money' vector: \", vector)"
   ]
  },
  {
   "cell_type": "code",
   "execution_count": null,
   "id": "8eea75a2-b505-4957-a783-b85399044859",
   "metadata": {},
   "outputs": [],
   "source": [
    "len(vector)"
   ]
  },
  {
   "cell_type": "code",
   "execution_count": null,
   "id": "8da25562-d833-405f-beed-b525ae8ecfc6",
   "metadata": {},
   "outputs": [],
   "source": [
    "# Find similar words\n",
    "similar = model.wv.most_similar(\"money\", topn=10)\n",
    "for word, score in similar:\n",
    "    print(f\"{word} : {score}\")"
   ]
  },
  {
   "cell_type": "code",
   "execution_count": null,
   "id": "1ef3b8aa-7059-4cfa-96d4-29d632b5b034",
   "metadata": {},
   "outputs": [],
   "source": [
    "# Viswalize EMbeddings\n",
    "words = [\"money\", \"bank\", \"finance\", \"loan\", \"cash\", \"house\", \"salary\", \"fund\", \"expense\", \"wealth\", \"debt\"]\n",
    "vectors = [model.wv[word] for word in words]"
   ]
  },
  {
   "cell_type": "code",
   "execution_count": null,
   "id": "63bbcc5e-af3c-4051-84e0-dda195b50726",
   "metadata": {},
   "outputs": [],
   "source": [
    "vectors"
   ]
  },
  {
   "cell_type": "code",
   "execution_count": null,
   "id": "b967de88-fe8f-4f35-bc9d-fc96b789bdc2",
   "metadata": {},
   "outputs": [],
   "source": [
    "# reduce to 2D\n",
    "pca = PCA(n_components=2)\n",
    "points = pca.fit_transform(vectors)"
   ]
  },
  {
   "cell_type": "code",
   "execution_count": null,
   "id": "cb8b5cd9-fac1-4e0b-a91d-56ae4930855c",
   "metadata": {},
   "outputs": [],
   "source": [
    "points"
   ]
  },
  {
   "cell_type": "code",
   "execution_count": null,
   "id": "20b3f2d1-80f1-45f9-bd72-4dba9892bab0",
   "metadata": {},
   "outputs": [],
   "source": [
    "# Plot for visuals\n",
    "plt.figure(figsize=(8, 6))\n",
    "for i, word in enumerate(words):\n",
    "    x, y = points[i]\n",
    "    plt.scatter(x, y)\n",
    "    plt.text(x + 0.01, y + 0.01, word, fontsize=12)\n",
    "\n",
    "plt.title(\"Word EMbeddings\")\n",
    "plt.grid(True)\n",
    "plt.show()"
   ]
  },
  {
   "cell_type": "code",
   "execution_count": null,
   "id": "4cc25556-4191-4651-8a1f-524a61feb641",
   "metadata": {},
   "outputs": [],
   "source": [
    "print(model.wv.similarity(\"money\", \"salary\"))\n",
    "print(model.wv.similarity(\"money\", \"bank\"))\n",
    "print(model.wv.similarity(\"money\", \"house\"))"
   ]
  },
  {
   "cell_type": "code",
   "execution_count": null,
   "id": "a0478083-7522-471a-880e-dad8b8b50ffa",
   "metadata": {},
   "outputs": [],
   "source": []
  }
 ],
 "metadata": {
  "kernelspec": {
   "display_name": "Python 3 (ipykernel)",
   "language": "python",
   "name": "python3"
  },
  "language_info": {
   "codemirror_mode": {
    "name": "ipython",
    "version": 3
   },
   "file_extension": ".py",
   "mimetype": "text/x-python",
   "name": "python",
   "nbconvert_exporter": "python",
   "pygments_lexer": "ipython3",
   "version": "3.10.12"
  }
 },
 "nbformat": 4,
 "nbformat_minor": 5
}
