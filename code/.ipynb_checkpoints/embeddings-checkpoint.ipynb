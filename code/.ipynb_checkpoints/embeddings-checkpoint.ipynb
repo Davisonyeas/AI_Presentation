{
 "cells": [
  {
   "cell_type": "markdown",
   "id": "d8c810db-a99b-4d95-9f7a-de8e59c032ba",
   "metadata": {},
   "source": [
    "### Embeddings"
   ]
  },
  {
   "cell_type": "code",
   "execution_count": 10,
   "id": "ca25dc90-2a89-49b8-b4c3-9ddd16478eb4",
   "metadata": {},
   "outputs": [
    {
     "name": "stdout",
     "output_type": "stream",
     "text": [
      "Defaulting to user installation because normal site-packages is not writeable\n",
      "Requirement already satisfied: nltk in /home/davis/.local/lib/python3.10/site-packages (3.9.1)\n",
      "Collecting gensim\n",
      "  Downloading gensim-4.3.3-cp310-cp310-manylinux_2_17_x86_64.manylinux2014_x86_64.whl (26.5 MB)\n",
      "\u001b[2K     \u001b[38;2;114;156;31m━━━━━━━━━━━━━━━━━━━━━━━━━━━━━━━━━━━━━━━━\u001b[0m \u001b[32m26.5/26.5 MB\u001b[0m \u001b[31m30.2 MB/s\u001b[0m eta \u001b[36m0:00:00\u001b[0mm eta \u001b[36m0:00:01\u001b[0m0:01\u001b[0m:01\u001b[0m\n",
      "\u001b[?25hRequirement already satisfied: click in /home/davis/.local/lib/python3.10/site-packages (from nltk) (8.1.7)\n",
      "Requirement already satisfied: regex>=2021.8.3 in /home/davis/.local/lib/python3.10/site-packages (from nltk) (2024.11.6)\n",
      "Requirement already satisfied: joblib in /home/davis/.local/lib/python3.10/site-packages (from nltk) (1.4.2)\n",
      "Requirement already satisfied: tqdm in /home/davis/.local/lib/python3.10/site-packages (from nltk) (4.66.5)\n",
      "Requirement already satisfied: scipy<1.14.0,>=1.7.0 in /usr/lib/python3/dist-packages (from gensim) (1.8.0)\n",
      "Requirement already satisfied: numpy<2.0,>=1.18.5 in /home/davis/.local/lib/python3.10/site-packages (from gensim) (1.26.4)\n",
      "Collecting smart-open>=1.8.1\n",
      "  Downloading smart_open-7.1.0-py3-none-any.whl (61 kB)\n",
      "\u001b[2K     \u001b[38;2;114;156;31m━━━━━━━━━━━━━━━━━━━━━━━━━━━━━━━━━━━━━━━━\u001b[0m \u001b[32m61.7/61.7 KB\u001b[0m \u001b[31m5.6 MB/s\u001b[0m eta \u001b[36m0:00:00\u001b[0m\n",
      "\u001b[?25hRequirement already satisfied: wrapt in /home/davis/.local/lib/python3.10/site-packages (from smart-open>=1.8.1->gensim) (1.16.0)\n",
      "Installing collected packages: smart-open, gensim\n",
      "Successfully installed gensim-4.3.3 smart-open-7.1.0\n"
     ]
    },
    {
     "name": "stderr",
     "output_type": "stream",
     "text": [
      "/usr/lib/python3/dist-packages/scipy/__init__.py:146: UserWarning: A NumPy version >=1.17.3 and <1.25.0 is required for this version of SciPy (detected version 1.26.4\n",
      "  warnings.warn(f\"A NumPy version >={np_minversion} and <{np_maxversion}\"\n",
      "[nltk_data] Downloading package brown to /home/davis/nltk_data...\n",
      "[nltk_data]   Unzipping corpora/brown.zip.\n"
     ]
    },
    {
     "data": {
      "text/plain": [
       "True"
      ]
     },
     "execution_count": 10,
     "metadata": {},
     "output_type": "execute_result"
    }
   ],
   "source": [
    "# libraies\n",
    "# install nltk, gensim library\n",
    "!pip install nltk gensim\n",
    "\n",
    "import nltk\n",
    "from nltk.corpus import brown\n",
    "from gensim.models import Word2Vec\n",
    "import matplotlib.pyplot as plt\n",
    "from sklearn.decomposition import PCA\n",
    "\n",
    "nltk.download(\"brown\")"
   ]
  },
  {
   "cell_type": "code",
   "execution_count": 24,
   "id": "41c17e9b-efcd-4068-8735-a2202620d602",
   "metadata": {},
   "outputs": [],
   "source": [
    "# loading preprocessed corpus\n",
    "sentences = brown.sents()"
   ]
  },
  {
   "cell_type": "code",
   "execution_count": 25,
   "id": "c06a6750-2cca-4069-bc4d-97ecbd9c4d40",
   "metadata": {},
   "outputs": [
    {
     "name": "stdout",
     "output_type": "stream",
     "text": [
      "Totla number of sentences  57340\n",
      "Totla number of words  1161192\n",
      "Totla number of unique words  56057\n"
     ]
    }
   ],
   "source": [
    "# inspect\n",
    "print(\"Totla number of sentences \", len(sentences))\n",
    "print(\"Totla number of words \", len(brown.words()))\n",
    "print(\"Totla number of unique words \", len(set(brown.words())))"
   ]
  },
  {
   "cell_type": "code",
   "execution_count": 26,
   "id": "b18afd3d-eb9c-4afc-bd9b-66ee3b0f2a82",
   "metadata": {},
   "outputs": [
    {
     "data": {
      "text/plain": [
       "['The',\n",
       " 'jury',\n",
       " 'said',\n",
       " 'it',\n",
       " 'did',\n",
       " 'find',\n",
       " 'that',\n",
       " 'many',\n",
       " 'of',\n",
       " \"Georgia's\",\n",
       " 'registration',\n",
       " 'and',\n",
       " 'election',\n",
       " 'laws',\n",
       " '``',\n",
       " 'are',\n",
       " 'outmoded',\n",
       " 'or',\n",
       " 'inadequate',\n",
       " 'and',\n",
       " 'often',\n",
       " 'ambiguous',\n",
       " \"''\",\n",
       " '.']"
      ]
     },
     "execution_count": 26,
     "metadata": {},
     "output_type": "execute_result"
    }
   ],
   "source": [
    "# sample of corpus\n",
    "sentences[4]"
   ]
  },
  {
   "cell_type": "code",
   "execution_count": 39,
   "id": "a981c5c3-378c-4d64-95ba-af1789aa5630",
   "metadata": {},
   "outputs": [],
   "source": [
    "# Train Word2Vec model\n",
    "model = Word2Vec(sentences, vector_size=100, window=5, min_count=2, workers=4)"
   ]
  },
  {
   "cell_type": "code",
   "execution_count": 40,
   "id": "f1a9b0d8-7d13-4e3a-adda-94517c5aec49",
   "metadata": {},
   "outputs": [
    {
     "name": "stdout",
     "output_type": "stream",
     "text": [
      "All values of 'money' vector:  [ 0.17196797 -0.03533376 -0.01776189 -0.15063307 -0.05131228 -0.23249887\n",
      "  0.26656228  0.516093   -0.3744634   0.3083964  -0.5272267  -0.00658239\n",
      "  0.36728773  0.1836034  -0.12819996 -0.35895392  0.1934158  -0.42916226\n",
      " -0.433208   -0.58551705  0.35408428  0.5469099   0.6147331   0.29070947\n",
      " -0.05639276 -0.5316862   0.13336682 -0.6408713  -0.76490545 -0.16915102\n",
      "  0.77813673 -0.24764502  1.1711965  -0.96702063 -0.15645717  0.35134837\n",
      " -0.5964888  -0.02795626 -0.44250706 -0.74419     0.12688026 -0.33759692\n",
      "  0.13623464 -0.08268255  0.4965478   0.30124125 -0.3350578   0.00385996\n",
      "  0.08070826  0.0646722   0.15515026 -0.8113818  -1.0038759  -0.15557009\n",
      "  0.07194796 -0.5067808   0.5657689  -0.22626959 -0.64888865 -0.1914377\n",
      " -0.08336148  0.272986   -0.33719507  0.04613414 -0.14131756  0.5642512\n",
      "  0.2176282  -0.08570432 -0.21664545  0.52139944  0.25001922  0.27732146\n",
      "  0.50148714 -0.26560527  1.1068467  -0.59603536  0.53179276 -0.31006923\n",
      " -0.3014196  -0.2743393  -0.17533696  0.2558581  -0.86896724  0.43193135\n",
      " -0.47231203 -0.53917944  0.35364643  0.10253676 -0.1984266  -0.01858279\n",
      "  0.6350579   0.36820278 -0.15267237  0.08167101 -0.08947308  0.47030646\n",
      "  0.01983618 -0.3335349  -0.08946114 -0.51441675]\n"
     ]
    }
   ],
   "source": [
    "# Get the embedding of a word\n",
    "vector = model.wv[\"money\"]\n",
    "print(\"All values of 'money' vector: \", vector)"
   ]
  },
  {
   "cell_type": "code",
   "execution_count": 41,
   "id": "8eea75a2-b505-4957-a783-b85399044859",
   "metadata": {},
   "outputs": [
    {
     "data": {
      "text/plain": [
       "100"
      ]
     },
     "execution_count": 41,
     "metadata": {},
     "output_type": "execute_result"
    }
   ],
   "source": [
    "len(vector)"
   ]
  },
  {
   "cell_type": "code",
   "execution_count": 43,
   "id": "8da25562-d833-405f-beed-b525ae8ecfc6",
   "metadata": {},
   "outputs": [
    {
     "name": "stdout",
     "output_type": "stream",
     "text": [
      "care : 0.9227837920188904\n",
      "work : 0.8996649384498596\n",
      "freedom : 0.8922978639602661\n",
      "job : 0.8894316554069519\n",
      "ability : 0.8854100704193115\n",
      "reasonable : 0.8846355080604553\n",
      "trouble : 0.8822656869888306\n",
      "drink : 0.8805915117263794\n",
      "opportunity : 0.8783686757087708\n",
      "future : 0.8774009943008423\n"
     ]
    }
   ],
   "source": [
    "# Find similar words\n",
    "similar = model.wv.most_similar(\"money\", topn=10)\n",
    "for word, score in similar:\n",
    "    print(f\"{word} : {score}\")"
   ]
  },
  {
   "cell_type": "code",
   "execution_count": 65,
   "id": "1ef3b8aa-7059-4cfa-96d4-29d632b5b034",
   "metadata": {},
   "outputs": [],
   "source": [
    "# Viswalize EMbeddings\n",
    "words = [\"money\", \"bank\", \"finance\", \"loan\", \"cash\", \"house\", \"salary\", \"fund\", \"expense\", \"wealth\", \"debt\"]\n",
    "vectors = [model.wv[word] for word in words]"
   ]
  },
  {
   "cell_type": "code",
   "execution_count": 66,
   "id": "63bbcc5e-af3c-4051-84e0-dda195b50726",
   "metadata": {},
   "outputs": [
    {
     "data": {
      "text/plain": [
       "[array([ 0.17196797, -0.03533376, -0.01776189, -0.15063307, -0.05131228,\n",
       "        -0.23249887,  0.26656228,  0.516093  , -0.3744634 ,  0.3083964 ,\n",
       "        -0.5272267 , -0.00658239,  0.36728773,  0.1836034 , -0.12819996,\n",
       "        -0.35895392,  0.1934158 , -0.42916226, -0.433208  , -0.58551705,\n",
       "         0.35408428,  0.5469099 ,  0.6147331 ,  0.29070947, -0.05639276,\n",
       "        -0.5316862 ,  0.13336682, -0.6408713 , -0.76490545, -0.16915102,\n",
       "         0.77813673, -0.24764502,  1.1711965 , -0.96702063, -0.15645717,\n",
       "         0.35134837, -0.5964888 , -0.02795626, -0.44250706, -0.74419   ,\n",
       "         0.12688026, -0.33759692,  0.13623464, -0.08268255,  0.4965478 ,\n",
       "         0.30124125, -0.3350578 ,  0.00385996,  0.08070826,  0.0646722 ,\n",
       "         0.15515026, -0.8113818 , -1.0038759 , -0.15557009,  0.07194796,\n",
       "        -0.5067808 ,  0.5657689 , -0.22626959, -0.64888865, -0.1914377 ,\n",
       "        -0.08336148,  0.272986  , -0.33719507,  0.04613414, -0.14131756,\n",
       "         0.5642512 ,  0.2176282 , -0.08570432, -0.21664545,  0.52139944,\n",
       "         0.25001922,  0.27732146,  0.50148714, -0.26560527,  1.1068467 ,\n",
       "        -0.59603536,  0.53179276, -0.31006923, -0.3014196 , -0.2743393 ,\n",
       "        -0.17533696,  0.2558581 , -0.86896724,  0.43193135, -0.47231203,\n",
       "        -0.53917944,  0.35364643,  0.10253676, -0.1984266 , -0.01858279,\n",
       "         0.6350579 ,  0.36820278, -0.15267237,  0.08167101, -0.08947308,\n",
       "         0.47030646,  0.01983618, -0.3335349 , -0.08946114, -0.51441675],\n",
       "       dtype=float32),\n",
       " array([-0.17434986,  0.09985619,  0.07890186,  0.08864471, -0.20275158,\n",
       "        -0.27183446,  0.09240692,  0.42357537, -0.226838  , -0.23089248,\n",
       "        -0.08652186, -0.25340766, -0.06763647,  0.11520561,  0.12559803,\n",
       "        -0.22162603,  0.11803527, -0.11550389, -0.2011839 , -0.28442323,\n",
       "         0.32304552, -0.27291802,  0.12262446,  0.15111117,  0.05518133,\n",
       "        -0.08194924, -0.19055957,  0.01088674, -0.3159889 , -0.00759412,\n",
       "         0.10515919, -0.07913107,  0.24040705, -0.62246174,  0.04560379,\n",
       "        -0.13159217, -0.00230547,  0.01479836, -0.4184682 , -0.22653586,\n",
       "        -0.00890957, -0.32980472, -0.00883842, -0.06573941, -0.03569886,\n",
       "        -0.04679696, -0.09082282,  0.01725955, -0.11637383,  0.21808745,\n",
       "         0.05539377, -0.24292243, -0.2721707 , -0.1396689 ,  0.14255798,\n",
       "        -0.06725939,  0.21245539,  0.03436314, -0.1948601 , -0.05832301,\n",
       "         0.05704003,  0.1290454 ,  0.07896812, -0.10705385, -0.24438602,\n",
       "         0.31488365, -0.0827463 ,  0.31042975, -0.14979811,  0.3993541 ,\n",
       "        -0.03696946,  0.09648202,  0.2587561 , -0.13226306,  0.24383806,\n",
       "         0.2733186 ,  0.22473155,  0.09223562,  0.02437862, -0.07741281,\n",
       "        -0.14420506, -0.03140156, -0.14712381,  0.21392052, -0.34293652,\n",
       "        -0.08516298,  0.47783366,  0.14054057,  0.01468645,  0.20461756,\n",
       "         0.17221172,  0.03496749, -0.01608158,  0.01319029,  0.01239426,\n",
       "         0.04521085,  0.13298899, -0.05362051, -0.25792658, -0.10799022],\n",
       "       dtype=float32),\n",
       " array([ 0.0047053 ,  0.07679189,  0.09146395,  0.07760993, -0.0532751 ,\n",
       "        -0.2725754 ,  0.20320496,  0.46673226, -0.174282  , -0.12773642,\n",
       "        -0.01454277, -0.28024808,  0.0849491 ,  0.07442857,  0.03234468,\n",
       "        -0.16140026,  0.04302418, -0.13080126, -0.08050574, -0.17055993,\n",
       "         0.16560496,  0.03368284,  0.05772132,  0.09639806,  0.02597911,\n",
       "        -0.14744996, -0.06961083,  0.00646549, -0.19316062,  0.0632472 ,\n",
       "         0.02589171, -0.08552244,  0.22137001, -0.30879346, -0.03361202,\n",
       "         0.1618172 ,  0.02926782,  0.06171913, -0.2348825 , -0.14954054,\n",
       "         0.03761869, -0.21036062,  0.00269607,  0.00251123,  0.09311742,\n",
       "         0.03760481, -0.1814189 ,  0.00342766, -0.01725833,  0.10043786,\n",
       "         0.08135832, -0.1626644 , -0.25655186, -0.10527677,  0.05887265,\n",
       "        -0.02414024,  0.19785894,  0.0492634 , -0.03345526,  0.00104622,\n",
       "        -0.03796508,  0.0015293 ,  0.00379024, -0.01780669, -0.23269047,\n",
       "         0.2927135 , -0.08873578,  0.12442855, -0.1734078 ,  0.20962937,\n",
       "         0.02136898,  0.13855089,  0.22778389, -0.1569333 ,  0.2833029 ,\n",
       "         0.00818343,  0.17933746,  0.05515343, -0.01460749,  0.00242919,\n",
       "        -0.12525854,  0.10399812, -0.18445924,  0.10637947, -0.18428479,\n",
       "        -0.03017099,  0.21980183,  0.06749997,  0.2747062 ,  0.14553507,\n",
       "         0.07530129,  0.12382336,  0.04176496,  0.00512352,  0.16772495,\n",
       "         0.0339591 ,  0.10454459, -0.14331757, -0.03168177, -0.05569237],\n",
       "       dtype=float32),\n",
       " array([-0.16822961,  0.22523394,  0.17689238,  0.05338578, -0.12132567,\n",
       "        -0.38812134,  0.1340975 ,  0.53401136, -0.26338187, -0.2432289 ,\n",
       "        -0.02352976, -0.3734848 ,  0.0823048 ,  0.15871078,  0.13048562,\n",
       "        -0.21810351,  0.13688228, -0.07967878, -0.25864074, -0.34680212,\n",
       "         0.24082568, -0.1646385 ,  0.02748149,  0.11976372,  0.07161433,\n",
       "        -0.10470178, -0.15173449,  0.04884991, -0.2881789 , -0.0061183 ,\n",
       "         0.08653527, -0.19397219,  0.20157342, -0.4922219 , -0.03680003,\n",
       "        -0.0017789 ,  0.04236847, -0.00508172, -0.40851298, -0.1874757 ,\n",
       "         0.02993062, -0.29165617, -0.08015849, -0.14533049, -0.01868987,\n",
       "        -0.05150102, -0.18589312, -0.07025152, -0.20212524,  0.2621595 ,\n",
       "         0.13255662, -0.2984142 , -0.35253873, -0.09490408,  0.08340918,\n",
       "        -0.07497889,  0.28294447,  0.08094445, -0.16372518, -0.06793629,\n",
       "        -0.05764497,  0.20654929,  0.01795302, -0.04666987, -0.25526407,\n",
       "         0.43016404, -0.17540473,  0.24118735, -0.21676487,  0.34222612,\n",
       "         0.03531675,  0.16892551,  0.34801456, -0.2661142 ,  0.3139551 ,\n",
       "         0.13880986,  0.20076682,  0.06022115, -0.03532253,  0.00469926,\n",
       "        -0.24261498, -0.04134795, -0.17246903,  0.18177645, -0.2508819 ,\n",
       "        -0.0148929 ,  0.35326296,  0.10790604,  0.21153934,  0.23063882,\n",
       "         0.11866508,  0.1037083 ,  0.02768456, -0.01830591,  0.06656   ,\n",
       "        -0.00237268,  0.1743105 , -0.11353847, -0.16312143, -0.02633829],\n",
       "       dtype=float32),\n",
       " array([-0.0876417 ,  0.07396615,  0.11656079,  0.01743388, -0.16123128,\n",
       "        -0.2887001 ,  0.14213638,  0.44367746, -0.27615216, -0.13826728,\n",
       "        -0.0814857 , -0.2845301 ,  0.07328963,  0.16256085,  0.06918503,\n",
       "        -0.18033962,  0.04854881, -0.03874571, -0.13539249, -0.27549613,\n",
       "         0.23785602, -0.08992054,  0.07653964,  0.07348209,  0.11785517,\n",
       "        -0.11712265, -0.0471585 ,  0.00063183, -0.23068024,  0.03781151,\n",
       "         0.10377149, -0.09341938,  0.2790299 , -0.37155268, -0.02203526,\n",
       "         0.04510465, -0.03254819, -0.00988674, -0.22869162, -0.2505234 ,\n",
       "         0.0471014 , -0.17888357,  0.03866937, -0.1470215 , -0.03191659,\n",
       "         0.02017999, -0.0901781 ,  0.02207086, -0.11806989,  0.13367106,\n",
       "         0.12674735, -0.2543784 , -0.30613515, -0.08827139,  0.09810306,\n",
       "        -0.143192  ,  0.18861504,  0.05604013, -0.06135017, -0.03871905,\n",
       "        -0.09255267,  0.12123954, -0.04813048, -0.07125137, -0.24937543,\n",
       "         0.36263862, -0.09394105,  0.16437261, -0.13271374,  0.40140876,\n",
       "        -0.02230866,  0.14523889,  0.27352986, -0.16797225,  0.4033797 ,\n",
       "        -0.02079794,  0.22505109,  0.0018357 , -0.06624994, -0.00315808,\n",
       "        -0.09234919,  0.0400928 , -0.1990942 ,  0.08155485, -0.231066  ,\n",
       "        -0.11956561,  0.22597645,  0.07928496,  0.12841517,  0.18267429,\n",
       "         0.24920568,  0.04357663,  0.00502316,  0.04025846,  0.02725621,\n",
       "         0.08223518,  0.10617164, -0.14602701, -0.06081492, -0.06894107],\n",
       "       dtype=float32),\n",
       " array([ 0.0817913 ,  0.18483162, -0.09217165,  0.29418734, -0.6237508 ,\n",
       "        -0.13684586,  0.16848798,  1.1279174 , -0.36209723, -0.44332966,\n",
       "        -0.51663125,  0.13430923, -0.28869364, -0.1748713 ,  0.31305486,\n",
       "        -0.3840044 ,  0.2332602 , -0.5898561 , -0.93299806, -0.62808913,\n",
       "         0.8459999 , -0.30938056,  0.7695395 ,  0.25777188, -0.51649374,\n",
       "        -0.14150636, -0.02493485, -1.0469655 , -0.8117217 ,  0.14193304,\n",
       "         1.0704141 , -0.5084219 ,  0.8601398 , -1.6054429 ,  0.24756002,\n",
       "         0.1255799 , -0.5349568 ,  0.15656781, -0.86718255, -0.5546306 ,\n",
       "         0.51065534, -0.9756769 ,  0.15542574,  0.12817472,  0.36475906,\n",
       "        -0.25975537,  0.07254769, -0.45051783, -0.17513336,  0.2950218 ,\n",
       "        -0.28396013, -0.83895206, -0.8933615 , -0.16098516,  0.3584948 ,\n",
       "        -0.3005764 ,  0.46368328, -0.22675063, -0.6461879 , -0.48207754,\n",
       "         0.527045  ,  0.50933516, -0.02400682, -0.214193  , -0.20489782,\n",
       "         0.19873732,  0.43762204,  0.59745276, -0.35012403,  0.4404234 ,\n",
       "         0.3080034 , -0.10563006,  0.4653006 ,  0.07457449,  0.84038293,\n",
       "         0.48539233,  0.33385217,  0.42138076, -0.2407344 , -0.15361445,\n",
       "        -0.18887238,  0.29786888, -0.38391662,  0.9219783 , -0.79452246,\n",
       "        -0.16918446,  0.91045284,  0.11246054, -0.89351207,  0.09135056,\n",
       "         0.62425286,  0.00750357, -0.531735  , -0.13046445, -0.02169367,\n",
       "         0.2759716 , -0.24987008, -0.1041977 , -0.23583068, -0.49552828],\n",
       "       dtype=float32),\n",
       " array([-0.05504371,  0.16861944,  0.13044654,  0.10477433, -0.04877945,\n",
       "        -0.32830867,  0.16532868,  0.49136057, -0.24055147, -0.20274217,\n",
       "        -0.0114586 , -0.34855726,  0.0582508 ,  0.07640081,  0.13788822,\n",
       "        -0.17525584,  0.06852658, -0.07245197, -0.26608077, -0.24802357,\n",
       "         0.13924389, -0.04738501, -0.02494218,  0.11550499,  0.08105949,\n",
       "        -0.10814517, -0.10381033,  0.02436353, -0.27406928,  0.0763591 ,\n",
       "        -0.05019464, -0.16033676,  0.11539263, -0.32758048, -0.08425029,\n",
       "         0.14061081,  0.03211941, -0.01887633, -0.2983888 , -0.07035673,\n",
       "         0.03716402, -0.21437977, -0.07540675, -0.08956627,  0.08337951,\n",
       "        -0.07184492, -0.16298541, -0.11176008, -0.15958904,  0.22372687,\n",
       "         0.0921273 , -0.2936024 , -0.30119392, -0.09890209,  0.06074761,\n",
       "        -0.08822405,  0.18313058,  0.05809944,  0.00584681, -0.06786869,\n",
       "        -0.03089334,  0.12266108,  0.04218604, -0.05503332, -0.2218251 ,\n",
       "         0.3718075 , -0.26048458,  0.22871906, -0.17831407,  0.20118658,\n",
       "         0.09269624,  0.16765097,  0.23844767, -0.27678344,  0.251326  ,\n",
       "         0.11717442,  0.14241107,  0.09489531, -0.03036116,  0.03624799,\n",
       "        -0.20303622,  0.0525132 , -0.14362906,  0.11963829, -0.1341399 ,\n",
       "        -0.00506617,  0.171379  ,  0.10006014,  0.2891735 ,  0.21939957,\n",
       "         0.040784  ,  0.08220977,  0.01558792, -0.02293782,  0.20809335,\n",
       "        -0.01697646,  0.1645626 , -0.14759363, -0.06481175, -0.05462678],\n",
       "       dtype=float32),\n",
       " array([-0.16409524,  0.21312325,  0.13039695,  0.09671704, -0.05825399,\n",
       "        -0.4235824 ,  0.19794683,  0.59448767, -0.30340576, -0.22969832,\n",
       "        -0.12992959, -0.45996967,  0.07903996,  0.07576035,  0.24651179,\n",
       "        -0.25677723,  0.04577874, -0.07532308, -0.30181408, -0.39002597,\n",
       "         0.37519097, -0.08035111, -0.03024517,  0.14909947, -0.06472633,\n",
       "        -0.13564336, -0.10942899,  0.04152143, -0.38341618, -0.00446969,\n",
       "         0.01440502, -0.1366736 ,  0.23205164, -0.40862086, -0.0978594 ,\n",
       "         0.03299405,  0.00645686, -0.02599532, -0.5233381 , -0.1470486 ,\n",
       "         0.11787139, -0.3485114 , -0.031263  , -0.16185571,  0.05644633,\n",
       "        -0.02666394, -0.20121695, -0.13406107, -0.20971225,  0.2970948 ,\n",
       "         0.18984856, -0.35471117, -0.34245458, -0.18925013,  0.18710291,\n",
       "        -0.10070127,  0.23739544,  0.11560836, -0.06469931, -0.06083068,\n",
       "         0.00829146,  0.17633072,  0.04701836, -0.13245466, -0.2001251 ,\n",
       "         0.39730638, -0.20646241,  0.3899869 , -0.2409303 ,  0.38681665,\n",
       "        -0.01578197,  0.0554614 ,  0.3328069 , -0.27321708,  0.3351803 ,\n",
       "         0.25328898,  0.279152  ,  0.07751483, -0.10378859, -0.04329372,\n",
       "        -0.190553  ,  0.12192919, -0.26296344,  0.19049072, -0.35193318,\n",
       "        -0.04829914,  0.3233867 ,  0.16385084,  0.28044546,  0.1677148 ,\n",
       "         0.18340375,  0.06633564, -0.14951697,  0.01316076,  0.178529  ,\n",
       "         0.0236958 ,  0.21963836, -0.14184345, -0.16482855, -0.14455554],\n",
       "       dtype=float32),\n",
       " array([-1.57977358e-01,  1.39483362e-01, -5.15417270e-02,  1.52942255e-01,\n",
       "        -1.28167987e-01, -4.54458654e-01,  2.40847588e-01,  4.35570210e-01,\n",
       "        -2.27444366e-01, -2.45991126e-01, -3.80144492e-02, -2.47558713e-01,\n",
       "         1.21969767e-01,  1.52195198e-03,  1.00698143e-01, -1.00433886e-01,\n",
       "         1.62977472e-01, -9.89075005e-02, -2.98603743e-01, -5.04337609e-01,\n",
       "         2.45187372e-01,  6.61883876e-02,  2.45156094e-01,  1.18875988e-01,\n",
       "         2.23762378e-01,  2.55147330e-02, -1.06076904e-01, -1.78799585e-01,\n",
       "        -4.39277649e-01, -1.07761443e-01,  2.93765873e-01, -2.28511885e-01,\n",
       "         3.10730755e-01, -4.91205961e-01, -3.13056037e-02, -9.31461621e-03,\n",
       "        -8.43706876e-02, -9.75191593e-02, -3.09971690e-01, -2.74790585e-01,\n",
       "        -1.42014576e-02, -3.75775099e-01, -1.66704673e-02, -1.90014422e-01,\n",
       "         5.45217581e-02,  8.64471346e-02, -2.29504868e-01, -1.99813038e-01,\n",
       "        -1.16266802e-01,  2.07454652e-01, -4.61300910e-02, -3.99043620e-01,\n",
       "        -4.22489136e-01, -1.49188399e-01,  7.87412748e-02, -2.22252041e-01,\n",
       "         3.03923815e-01,  9.35628787e-02, -1.65414691e-01, -2.55890132e-04,\n",
       "        -3.35668884e-02,  6.82078376e-02, -4.54837717e-02, -3.06903291e-02,\n",
       "        -2.05898732e-01,  3.72466177e-01, -2.19622090e-01,  8.63221735e-02,\n",
       "        -9.32206735e-02,  3.21192145e-01,  8.45923275e-02,  1.95872173e-01,\n",
       "         2.35761717e-01, -2.49202132e-01,  4.67864990e-01, -6.87666014e-02,\n",
       "         2.47585163e-01,  5.82703687e-02, -4.88329269e-02, -6.20520562e-02,\n",
       "        -2.81357616e-01, -6.32594973e-02, -1.61639124e-01,  2.18699723e-01,\n",
       "        -1.96412727e-01, -1.59812719e-01,  2.22832337e-01,  1.75277725e-01,\n",
       "        -2.55156178e-02, -6.61895797e-02,  2.86035329e-01,  9.98006091e-02,\n",
       "        -8.11932832e-02,  6.75830469e-02,  2.64888480e-02,  1.57373324e-01,\n",
       "         2.98359454e-01, -2.17951417e-01, -1.45973355e-01, -4.49666940e-02],\n",
       "       dtype=float32),\n",
       " array([-0.06017959,  0.09774381,  0.0685566 ,  0.00257785, -0.02938951,\n",
       "        -0.16503087,  0.08862934,  0.3465792 , -0.18792439, -0.12324046,\n",
       "        -0.03950045, -0.18785095,  0.01933958,  0.04448457,  0.04350021,\n",
       "        -0.12774627,  0.03966111, -0.08077993, -0.13871348, -0.24728224,\n",
       "         0.1692963 , -0.03370393,  0.13333851,  0.05072483, -0.03273088,\n",
       "        -0.08204962, -0.02741911, -0.02060326, -0.16432165, -0.01619824,\n",
       "         0.08933128, -0.14008951,  0.19338937, -0.25682935,  0.00440867,\n",
       "         0.00727928,  0.01886356,  0.05288769, -0.15776467, -0.09693811,\n",
       "         0.00476195, -0.15052657,  0.00917681, -0.05211657,  0.02036534,\n",
       "         0.0266609 , -0.11920286, -0.00313468, -0.13384831,  0.12515603,\n",
       "         0.04953212, -0.13618593, -0.21931861, -0.08240204,  0.08800791,\n",
       "        -0.06706937,  0.15924245,  0.09201669, -0.07079697, -0.04150131,\n",
       "        -0.01850287,  0.12289662,  0.03200012, -0.03168822, -0.19425368,\n",
       "         0.22051421, -0.02701747,  0.21025482, -0.13404407,  0.21603079,\n",
       "        -0.01817064,  0.04231083,  0.21742569, -0.06566478,  0.24545138,\n",
       "         0.07678574,  0.10512575,  0.03455689, -0.0710004 , -0.02510145,\n",
       "        -0.0902634 ,  0.06336945, -0.16062808,  0.1256352 , -0.16858384,\n",
       "        -0.058041  ,  0.17441107,  0.05185958,  0.08907571,  0.07071977,\n",
       "         0.05806186,  0.06054913, -0.02431405,  0.01750033,  0.08080687,\n",
       "         0.03340022,  0.09450308, -0.10382488, -0.10915414, -0.10540524],\n",
       "       dtype=float32),\n",
       " array([-0.00810397,  0.00685884,  0.0354153 ,  0.05378462, -0.0243926 ,\n",
       "        -0.13856837,  0.03074876,  0.20966092, -0.05912931, -0.07579277,\n",
       "        -0.04956175, -0.07864878, -0.00473396,  0.01315563,  0.05834504,\n",
       "        -0.03250066,  0.05507088, -0.10437129, -0.07066844, -0.13023975,\n",
       "         0.08544485,  0.02433834,  0.0519082 ,  0.05895069,  0.00105097,\n",
       "        -0.06160109, -0.10469335, -0.04951017, -0.142964  , -0.01876423,\n",
       "         0.06045258, -0.05087794,  0.11712775, -0.22564736, -0.03269002,\n",
       "         0.01282403, -0.01391547,  0.0143925 , -0.17209351, -0.07659214,\n",
       "         0.04971135, -0.10622051,  0.01686306, -0.00953048,  0.09084227,\n",
       "        -0.02970625, -0.0483939 , -0.032421  ,  0.00125695,  0.11164813,\n",
       "         0.01730405, -0.0929825 , -0.18264213, -0.02043953,  0.03587549,\n",
       "        -0.07074708,  0.09704492, -0.02115184, -0.09844814,  0.02569964,\n",
       "        -0.04038423,  0.08020698,  0.0146083 ,  0.00204889, -0.00389   ,\n",
       "         0.133739  ,  0.02443946,  0.05174934, -0.01080263,  0.10248328,\n",
       "         0.07021411,  0.06774929,  0.1063715 , -0.06542286,  0.1791669 ,\n",
       "         0.013248  ,  0.07186588,  0.05188262,  0.01526896, -0.08043343,\n",
       "        -0.10396677,  0.03720079, -0.09455021,  0.14378887, -0.10861757,\n",
       "        -0.02432334,  0.11895785,  0.0773332 ,  0.02746175,  0.02491223,\n",
       "         0.06707436,  0.08562012, -0.0336431 ,  0.00286495,  0.01378715,\n",
       "         0.02514623,  0.03415649, -0.06921352, -0.031354  , -0.02416313],\n",
       "       dtype=float32)]"
      ]
     },
     "execution_count": 66,
     "metadata": {},
     "output_type": "execute_result"
    }
   ],
   "source": [
    "vectors"
   ]
  },
  {
   "cell_type": "code",
   "execution_count": 67,
   "id": "b967de88-fe8f-4f35-bc9d-fc96b789bdc2",
   "metadata": {},
   "outputs": [],
   "source": [
    "# reduce to 2D\n",
    "pca = PCA(n_components=2)\n",
    "points = pca.fit_transform(vectors)"
   ]
  },
  {
   "cell_type": "code",
   "execution_count": 68,
   "id": "cb8b5cd9-fac1-4e0b-a91d-56ae4930855c",
   "metadata": {},
   "outputs": [
    {
     "data": {
      "text/plain": [
       "array([[-2.07996425, -1.98084969],\n",
       "       [ 0.35166812,  0.47003569],\n",
       "       [ 0.82256853, -0.11732452],\n",
       "       [ 0.55304606,  0.20442439],\n",
       "       [ 0.58601309, -0.1497084 ],\n",
       "       [-3.37438762,  1.31718224],\n",
       "       [ 0.87169348,  0.13553152],\n",
       "       [ 0.40931457,  0.28574816],\n",
       "       [ 0.146607  , -0.19979656],\n",
       "       [ 0.78260292,  0.05188883],\n",
       "       [ 0.9308381 , -0.01713167]])"
      ]
     },
     "execution_count": 68,
     "metadata": {},
     "output_type": "execute_result"
    }
   ],
   "source": [
    "points"
   ]
  },
  {
   "cell_type": "code",
   "execution_count": 69,
   "id": "20b3f2d1-80f1-45f9-bd72-4dba9892bab0",
   "metadata": {},
   "outputs": [
    {
     "data": {
      "image/png": "[encoded data removed]",
      "text/plain": [
       "<Figure size 800x600 with 1 Axes>"
      ]
     },
     "metadata": {},
     "output_type": "display_data"
    }
   ],
   "source": [
    "# Plot for visuals\n",
    "plt.figure(figsize=(8, 6))\n",
    "for i, word in enumerate(words):\n",
    "    x, y = points[i]\n",
    "    plt.scatter(x, y)\n",
    "    plt.text(x + 0.01, y + 0.01, word, fontsize=12)\n",
    "\n",
    "plt.title(\"Word EMbeddings\")\n",
    "plt.grid(True)\n",
    "plt.show()"
   ]
  },
  {
   "cell_type": "code",
   "execution_count": 72,
   "id": "4cc25556-4191-4651-8a1f-524a61feb641",
   "metadata": {},
   "outputs": [
    {
     "name": "stdout",
     "output_type": "stream",
     "text": [
      "0.53843206\n",
      "0.5974568\n",
      "0.7299755\n"
     ]
    }
   ],
   "source": [
    "print(model.wv.similarity(\"money\", \"salary\"))\n",
    "print(model.wv.similarity(\"money\", \"bank\"))\n",
    "print(model.wv.similarity(\"money\", \"house\"))"
   ]
  },
  {
   "cell_type": "code",
   "execution_count": null,
   "id": "a0478083-7522-471a-880e-dad8b8b50ffa",
   "metadata": {},
   "outputs": [],
   "source": []
  }
 ],
 "metadata": {
  "kernelspec": {
   "display_name": "Python 3 (ipykernel)",
   "language": "python",
   "name": "python3"
  },
  "language_info": {
   "codemirror_mode": {
    "name": "ipython",
    "version": 3
   },
   "file_extension": ".py",
   "mimetype": "text/x-python",
   "name": "python",
   "nbconvert_exporter": "python",
   "pygments_lexer": "ipython3",
   "version": "3.10.12"
  }
 },
 "nbformat": 4,
 "nbformat_minor": 5
}
