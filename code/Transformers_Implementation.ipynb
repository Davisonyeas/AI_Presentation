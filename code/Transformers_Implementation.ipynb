{
 "cells": [
  {
   "cell_type": "markdown",
   "id": "524e3576-ec7f-4f91-8d7a-384fc85749a2",
   "metadata": {},
   "source": [
    "### Sentiment Analysis using Transformers"
   ]
  },
  {
   "cell_type": "code",
   "execution_count": null,
   "id": "8a997eea-d676-4971-aefc-58a636d59cee",
   "metadata": {},
   "outputs": [],
   "source": [
    "# libraries\n",
    "# !pip install gradio\n",
    "# !pip install shap\n",
    "import torch\n",
    "import gradio as gr\n",
    "import shap\n",
    "from transformers import AutoTokenizer, AutoModelForSequenceClassification"
   ]
  },
  {
   "cell_type": "code",
   "execution_count": null,
   "id": "23e01d02-ae29-4945-9ad9-f9deb23cd713",
   "metadata": {},
   "outputs": [],
   "source": [
    "# loading pretrained senetiment classifier\n",
    "model_name = \"distilbert-base-uncased-finetuned-sst-2-english\"\n",
    "tokenizer = AutoTokenizer.from_pretrained(model_name)\n",
    "model = AutoModelForSequenceClassification.from_pretrained(model_name)\n",
    "model.eval()"
   ]
  },
  {
   "cell_type": "code",
   "execution_count": null,
   "id": "2a69201e-0686-4cd7-80e4-913d827ca179",
   "metadata": {},
   "outputs": [],
   "source": [
    "# clasification and prediction\n",
    "def classify_sentiment(text):\n",
    "    inputs = tokenizer(text, return_tensors=\"pt\", truncation=True, padding=True)\n",
    "    with torch.no_grad():\n",
    "        logits = model(**inputs).logits\n",
    "        probs = torch.nn.functional.softmax(logits, dim=-1)\n",
    "        confidence = probs[0][1].item()\n",
    "        label = \"Positive\" if confidence > 0.5 else \"Negative\"\n",
    "    return f\"Sentiment: {label} (Confidence: {confidence:.2f})\""
   ]
  },
  {
   "cell_type": "code",
   "execution_count": null,
   "id": "46a66a7b-5b1f-4d58-9e8e-e215abc68820",
   "metadata": {},
   "outputs": [],
   "source": [
    "# Interface for display\n",
    "view = gr.Interface(\n",
    "    fn=classify_sentiment,\n",
    "    inputs=gr.Textbox(lines=3, placeholder=\"Enter a sentnece here.\"),\n",
    "    outputs=\"text\",\n",
    "    title=\"Sentiment Analyses with Transformer\",\n",
    "    description=\"This is a sentiment analysis app built using Transformers for Bootcamp 2025\"\n",
    ")\n",
    "\n",
    "view.launch(server_name=\"0.0.0.0\", server_port=7860)"
   ]
  },
  {
   "cell_type": "code",
   "execution_count": null,
   "id": "beb7047a-ab6b-42e6-8b10-ff61f6e37283",
   "metadata": {},
   "outputs": [],
   "source": []
  }
 ],
 "metadata": {
  "kernelspec": {
   "display_name": "Python 3 (ipykernel)",
   "language": "python",
   "name": "python3"
  },
  "language_info": {
   "codemirror_mode": {
    "name": "ipython",
    "version": 3
   },
   "file_extension": ".py",
   "mimetype": "text/x-python",
   "name": "python",
   "nbconvert_exporter": "python",
   "pygments_lexer": "ipython3",
   "version": "3.10.12"
  }
 },
 "nbformat": 4,
 "nbformat_minor": 5
}
